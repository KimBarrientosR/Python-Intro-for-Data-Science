{
 "cells": [
  {
   "cell_type": "markdown",
   "metadata": {},
   "source": [
    "# Intro to MLFlow - I\n",
    "\n",
    "In this notebook, we will learn about MLFlow, a platform for the complete machine learning lifecycle. We will learn how to log and track experiments, package code into reproducible runs, and share and deploy models."
   ]
  },
  {
   "cell_type": "code",
   "execution_count": 2,
   "metadata": {},
   "outputs": [
    {
     "name": "stderr",
     "output_type": "stream",
     "text": [
      "2025/02/02 17:44:06 INFO mlflow.tracking.fluent: Experiment with name 'My First Experiment' does not exist. Creating a new experiment.\n"
     ]
    }
   ],
   "source": [
    "import mlflow\n",
    "\n",
    "# set the experiment id\n",
    "mlflow.set_tracking_uri(\"http://localhost:5000\")\n",
    "mlflow.set_experiment(\"My First Experiment\")\n",
    "mlflow.autolog()"
   ]
  },
  {
   "cell_type": "markdown",
   "metadata": {},
   "source": [
    "Train and autolog results into MLFlow tracking server."
   ]
  },
  {
   "cell_type": "code",
   "execution_count": 4,
   "metadata": {},
   "outputs": [
    {
     "name": "stderr",
     "output_type": "stream",
     "text": [
      "2025/02/02 18:08:48 INFO mlflow.utils.autologging_utils: Created MLflow autologging run with ID '0e8f98628c43499b930e9ec906314efa', which will track hyperparameters, performance metrics, model artifacts, and lineage information for the current sklearn workflow\n",
      "2025/02/02 18:08:50 INFO mlflow.tracking._tracking_service.client: 🏃 View run enchanting-wasp-115 at: http://localhost:5000/#/experiments/375254677232128887/runs/0e8f98628c43499b930e9ec906314efa.\n",
      "2025/02/02 18:08:50 INFO mlflow.tracking._tracking_service.client: 🧪 View experiment at: http://localhost:5000/#/experiments/375254677232128887.\n",
      "2025/02/02 18:08:51 WARNING mlflow.models.model: Model logged without a signature and input example. Please set `input_example` parameter when logging the model to auto infer the model signature.\n"
     ]
    },
    {
     "data": {
      "text/plain": [
       "<mlflow.models.model.ModelInfo at 0x2a18dcee0>"
      ]
     },
     "execution_count": 4,
     "metadata": {},
     "output_type": "execute_result"
    }
   ],
   "source": [
    "from sklearn.model_selection import train_test_split\n",
    "from sklearn.datasets import load_diabetes\n",
    "from sklearn.ensemble import RandomForestRegressor\n",
    "from sklearn.metrics import mean_squared_error\n",
    "\n",
    "\n",
    "db = load_diabetes()\n",
    "\n",
    "X_train, X_test, y_train, y_test = train_test_split(db.data, db.target)\n",
    "\n",
    "# Create and train models.\n",
    "rf = RandomForestRegressor(n_estimators=100, max_depth=6, max_features=3)\n",
    "rf.fit(X_train, y_train)\n",
    "\n",
    "# Use the model to make predictions on the test dataset.\n",
    "predictions = rf.predict(X_test)\n",
    "\n",
    "# Calcular métrica\n",
    "mse = mean_squared_error(y_test, predictions)\n",
    "\n",
    "# Registrar manualmente la métrica\n",
    "mlflow.log_metric(\"mse\", mse)\n",
    "\n",
    "# Guardar el modelo\n",
    "mlflow.sklearn.log_model(rf, \"random_forest_model\")"
   ]
  },
  {
   "cell_type": "markdown",
   "metadata": {},
   "source": [
    "**Trying other hyperparameters**"
   ]
  },
  {
   "cell_type": "code",
   "execution_count": 6,
   "metadata": {},
   "outputs": [
    {
     "name": "stderr",
     "output_type": "stream",
     "text": [
      "2025/02/02 18:10:46 INFO mlflow.tracking._tracking_service.client: 🏃 View run gaudy-vole-351 at: http://localhost:5000/#/experiments/375254677232128887/runs/cfe8f37557864e30b886f1c1d2e2da04.\n",
      "2025/02/02 18:10:46 INFO mlflow.tracking._tracking_service.client: 🧪 View experiment at: http://localhost:5000/#/experiments/375254677232128887.\n",
      "2025/02/02 18:10:49 WARNING mlflow.models.model: Model logged without a signature and input example. Please set `input_example` parameter when logging the model to auto infer the model signature.\n",
      "2025/02/02 18:10:49 INFO mlflow.tracking._tracking_service.client: 🏃 View run nimble-stag-879 at: http://localhost:5000/#/experiments/375254677232128887/runs/5fa7bdaebaca4f328b79a2bbb4832d3b.\n",
      "2025/02/02 18:10:49 INFO mlflow.tracking._tracking_service.client: 🧪 View experiment at: http://localhost:5000/#/experiments/375254677232128887.\n",
      "2025/02/02 18:10:52 WARNING mlflow.models.model: Model logged without a signature and input example. Please set `input_example` parameter when logging the model to auto infer the model signature.\n",
      "2025/02/02 18:10:52 INFO mlflow.tracking._tracking_service.client: 🏃 View run entertaining-gnu-32 at: http://localhost:5000/#/experiments/375254677232128887/runs/80f113c19af14636a8e6fa4a515f2ad0.\n",
      "2025/02/02 18:10:52 INFO mlflow.tracking._tracking_service.client: 🧪 View experiment at: http://localhost:5000/#/experiments/375254677232128887.\n",
      "2025/02/02 18:10:54 WARNING mlflow.models.model: Model logged without a signature and input example. Please set `input_example` parameter when logging the model to auto infer the model signature.\n",
      "2025/02/02 18:10:54 INFO mlflow.tracking._tracking_service.client: 🏃 View run bemused-crab-598 at: http://localhost:5000/#/experiments/375254677232128887/runs/396a2059037e4bd8ac952c2a118bd9ac.\n",
      "2025/02/02 18:10:54 INFO mlflow.tracking._tracking_service.client: 🧪 View experiment at: http://localhost:5000/#/experiments/375254677232128887.\n"
     ]
    }
   ],
   "source": [
    "mlflow.end_run()\n",
    "param_grid = [\n",
    "    {\"n_estimators\": 50, \"max_depth\": 4},\n",
    "    {\"n_estimators\": 100, \"max_depth\": 6},\n",
    "    {\"n_estimators\": 200, \"max_depth\": 8},\n",
    "]\n",
    "\n",
    "for params in param_grid:\n",
    "    with mlflow.start_run():\n",
    "        rf = RandomForestRegressor(**params)\n",
    "        rf.fit(X_train, y_train)\n",
    "        predictions = rf.predict(X_test)\n",
    "        mse = mean_squared_error(y_test, predictions)\n",
    "\n",
    "        mlflow.log_params(params)\n",
    "        mlflow.log_metric(\"mse\", mse)\n",
    "        mlflow.sklearn.log_model(rf, \"random_forest_model\")"
   ]
  },
  {
   "cell_type": "markdown",
   "metadata": {},
   "source": [
    "With these enhancements, we can:\n",
    "- Record and visualize metrics in MLflow.\n",
    "- Compare different hyperparameter configurations."
   ]
  }
 ],
 "metadata": {
  "kernelspec": {
   "display_name": "myenv",
   "language": "python",
   "name": "python3"
  },
  "language_info": {
   "codemirror_mode": {
    "name": "ipython",
    "version": 3
   },
   "file_extension": ".py",
   "mimetype": "text/x-python",
   "name": "python",
   "nbconvert_exporter": "python",
   "pygments_lexer": "ipython3",
   "version": "3.9.21"
  }
 },
 "nbformat": 4,
 "nbformat_minor": 2
}
