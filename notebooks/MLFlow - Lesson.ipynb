{
 "cells": [
  {
   "cell_type": "code",
   "execution_count": 9,
   "metadata": {},
   "outputs": [
    {
     "data": {
      "text/plain": [
       "<Experiment: artifact_location='mlflow-artifacts:/159898411847003614', creation_time=1729614388422, experiment_id='159898411847003614', last_update_time=1729614388422, lifecycle_stage='active', name='My First Experiment', tags={}>"
      ]
     },
     "execution_count": 9,
     "metadata": {},
     "output_type": "execute_result"
    }
   ],
   "source": [
    "import mlflow\n",
    "import sklearn\n",
    "from sklearn.model_selection import train_test_split\n",
    "from sklearn.datasets import load_diabetes\n",
    "from sklearn.ensemble import RandomForestRegressor\n",
    "\n",
    "# set the experiment id\n",
    "mlflow.set_tracking_uri(\"http://localhost:5000\") # localhost = 127.0.0.1\n",
    "mlflow.set_experiment(experiment_id=\"159898411847003614\")\n",
    "\n",
    "#mlflow.autolog()\n"
   ]
  },
  {
   "cell_type": "code",
   "execution_count": 10,
   "metadata": {},
   "outputs": [
    {
     "name": "stderr",
     "output_type": "stream",
     "text": [
      "2024/10/24 16:13:28 INFO mlflow.utils.autologging_utils: Created MLflow autologging run with ID 'f5bb41f84b0545d2bb09ad6c5fb6087d', which will track hyperparameters, performance metrics, model artifacts, and lineage information for the current sklearn workflow\n"
     ]
    },
    {
     "name": "stderr",
     "output_type": "stream",
     "text": [
      "2024/10/24 16:13:30 INFO mlflow.tracking._tracking_service.client: 🏃 View run entertaining-cub-238 at: http://localhost:5000/#/experiments/159898411847003614/runs/f5bb41f84b0545d2bb09ad6c5fb6087d.\n",
      "2024/10/24 16:13:30 INFO mlflow.tracking._tracking_service.client: 🧪 View experiment at: http://localhost:5000/#/experiments/159898411847003614.\n"
     ]
    }
   ],
   "source": [
    "db = sklearn.datasets.load_diabetes()\n",
    "\n",
    "X_train, X_test, y_train, y_test = train_test_split(db.data, db.target)\n",
    "\n",
    "# Create and train models.\n",
    "rf = RandomForestRegressor(n_estimators=100, max_depth=6, max_features=3)\n",
    "rf.fit(X_train, y_train)\n",
    "\n",
    "# Use the model to make predictions on the test dataset.\n",
    "predictions = rf.predict(X_test)"
   ]
  },
  {
   "cell_type": "code",
   "execution_count": 27,
   "metadata": {},
   "outputs": [
    {
     "name": "stderr",
     "output_type": "stream",
     "text": [
      "2024/10/24 16:25:40 INFO mlflow.tracking._tracking_service.client: 🏃 View run smiling-wolf-378 at: http://localhost:5000/#/experiments/159898411847003614/runs/8aa86872a5bc46e8b3f332c55cd0f211.\n",
      "2024/10/24 16:25:40 INFO mlflow.tracking._tracking_service.client: 🧪 View experiment at: http://localhost:5000/#/experiments/159898411847003614.\n"
     ]
    }
   ],
   "source": [
    "with mlflow.start_run():\n",
    "\n",
    "    mlflow.set_tags({\"my_tag\": \"my_value\"})\n",
    "    mlflow.log_params({\"n_stimators\": 101})\n",
    "    mlflow.log_metrics({\"mse\": 5})\n"
   ]
  }
 ],
 "metadata": {
  "kernelspec": {
   "display_name": "myenv",
   "language": "python",
   "name": "python3"
  },
  "language_info": {
   "codemirror_mode": {
    "name": "ipython",
    "version": 3
   },
   "file_extension": ".py",
   "mimetype": "text/x-python",
   "name": "python",
   "nbconvert_exporter": "python",
   "pygments_lexer": "ipython3",
   "version": "3.11.10"
  }
 },
 "nbformat": 4,
 "nbformat_minor": 2
}
